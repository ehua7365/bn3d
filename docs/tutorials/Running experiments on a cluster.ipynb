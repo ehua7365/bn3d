{
 "cells": [
  {
   "cell_type": "markdown",
   "id": "ef3cbcee-ea26-47e9-8822-3b9d04ee716d",
   "metadata": {},
   "source": [
    "# Running experiments on a cluster"
   ]
  },
  {
   "cell_type": "markdown",
   "id": "af762438-ea62-4d05-bb34-b6148126c81d",
   "metadata": {},
   "source": [
    "For many research projects in quantum error correction, running experiments on a computer cluster is needed to produce convincing results on large code distances. PanQEC contains an extensive set of tools to help you run experiments on a cluster painlessly. It includes commands to run experiments in parallel on a given number of cores, to generate scripts for Slurm, SGE and PBS cluster management systems, to automatically save experiments in real-time, and to check the progress of your experiments at any point.\n",
    "\n",
    "In this tutorial, we will cover the whole pipeline of a cluster experiment, from creating the input files to plotting the final results on your laptop."
   ]
  },
  {
   "cell_type": "markdown",
   "id": "aa4a956b-9379-41c7-9009-5deac87bfa48",
   "metadata": {},
   "source": [
    "## Folder structure"
   ]
  },
  {
   "cell_type": "markdown",
   "id": "3eb92029-85b7-4b49-ab2f-e214f3b1725d",
   "metadata": {},
   "source": [
    "In this tutorial, we will adopt the following folder structure for the experiment:\n",
    "\n",
    "* `my-experiment/`: root folder that will contain all the data of the experiments\n",
    "    * `my-experiment/inputs/`: contains the input json file(s)\n",
    "    * `my-experiment/results/`: contain the result json files (once the experiments is running)\n",
    "    * `my-experiment/logs/`: contain the log files of the experiment, such as the current progress and the CPU/RAM usage.\n",
    "    \n",
    "You can start by creating the root folder and the subfolder `inputs` on the cluster. The folders `results` and `logs` will be created automatically when starting the experiment."
   ]
  },
  {
   "cell_type": "markdown",
   "id": "809ede83-59bc-457e-a9f1-59c2b82e6e4a",
   "metadata": {},
   "source": [
    "## Creating the input files"
   ]
  },
  {
   "cell_type": "markdown",
   "id": "a1656892-7bf1-472f-a55d-5a28917b99f2",
   "metadata": {},
   "source": [
    "PanQEC works by processing input files written in a `json` format. Those specify most details of the experiments you want to run: the code/decoder/error model to use and their parameters, the lattice sizes, the physical error rates, etc. \n",
    "Here is an example of input file that describes a 2D toric code simulation under depolarizing noise, decoded using minimum-weight perfect matching:"
   ]
  },
  {
   "cell_type": "markdown",
   "id": "94d7dce6-5fb8-41b5-b718-ed0f23c38a91",
   "metadata": {},
   "source": [
    "```json\n",
    "{\n",
    "    \"comments\": \"\",\n",
    "    \"ranges\": {\n",
    "        \"label\": \"toric-2d-experiment\",\n",
    "        \"method\": {\n",
    "            \"name\": \"direct\",\n",
    "            \"parameters\": {}\n",
    "        },\n",
    "        \"code\": {\n",
    "            \"name\": \"Toric2DCode\",\n",
    "            \"parameters\": [\n",
    "                {\n",
    "                    \"L_x\": 5,\n",
    "                    \"L_y\": 5,\n",
    "                },\n",
    "                {\n",
    "                    \"L_x\": 7,\n",
    "                    \"L_y\": 7,\n",
    "                },\n",
    "                {\n",
    "                    \"L_x\": 9,\n",
    "                    \"L_y\": 9,\n",
    "                }\n",
    "            ]\n",
    "        },\n",
    "        \"error_model\": {\n",
    "            \"name\": \"PauliErrorModel\",\n",
    "            \"parameters\": {\n",
    "                \"r_x\": 0.33333333333333337,\n",
    "                \"r_y\": 0.33333333333333337,\n",
    "                \"r_z\": 0.3333333333333333\n",
    "            }\n",
    "        },\n",
    "        \"decoder\": {\n",
    "            \"name\": \"MatchingDecoder\",\n",
    "            \"parameters\": {}\n",
    "        },\n",
    "        \"error_rate\": [\n",
    "            0.1,\n",
    "            0.11,\n",
    "            0.12,\n",
    "            0.13,\n",
    "            0.14,\n",
    "            0.15,\n",
    "            0.16,\n",
    "            0.17,\n",
    "            0.18,\n",
    "            0.19,\n",
    "            0.2,\n",
    "        ]\n",
    "    }\n",
    "}\n",
    "```"
   ]
  },
  {
   "cell_type": "markdown",
   "id": "e2b00b0c-09c7-4361-a911-04a020ca22b6",
   "metadata": {},
   "source": [
    "Let's analyze the different parts of this input json file:\n",
    "\n",
    "* `label` is a name you want to give to this experiment\n",
    "* `method` specifies the simulation method. For the moment, there are two different methods: `direct` and `splitting`. The direct method consists in sampling independent errors at each Monte-Carlo round, while the splitting method samples errors using a Monte-Carlo Markov Chain algorithm introduced in [this paper](https://arxiv.org/abs/1308.6270) by Bravyi and Vargo. The splitting method has not been as thoroughly tested as the direct one in PanQEC at the moment, and we would advise against using it.\n",
    "* `code`: name and parameters of the code. The list of all codes can be found using the command line `panqec ls codes`. `L_x`, `L_y` (and `L_z` for 3D codes) define the lattice dimensions.\n",
    "* `error_model`: name and parameters of the error model. At the moment, there is only one error model called `PauliErrorModel`, which samples i.i.d Pauli errors at each run, without any measurement error. It is specified by three parameters, (`r_x`, `r_y`, `r_z`), which define the rate of Pauli $X$, $Y$ and $Z$ errors respectively. They should therefore all lie between $0$ and $1$ and satisfy the constraint $r_x+r_y+r_z=1$.\n",
    "* `decoder`: name and parameters of the decoder. The list of all decoders can be found using the command line `panqec ls decoders`.\n",
    "* `error_rate`: list of physical error rates included in the simulation."
   ]
  },
  {
   "cell_type": "markdown",
   "id": "20e94a05-138c-419d-a262-e9d246c3de83",
   "metadata": {},
   "source": [
    "To create your own input, you can either copy-paste the one above in a file `my-experiment/inputs/experiment.json`, or generate it using the `panqec` command `generate-input`:"
   ]
  },
  {
   "cell_type": "markdown",
   "id": "ac70fb60-ff86-4367-8643-b55749dcbadd",
   "metadata": {},
   "source": [
    "```bash\n",
    "panqec generate-input -d \"my-experiment\" \\\n",
    "    --code_class Toric2DCode --sizes \"5x5,7x7,9x9\" \\\n",
    "    --decoder_class MatchingDecoder \\\n",
    "    --bias \"Z\" --eta \"0.5\" \\\n",
    "    --prob \"0.1:0.2:0.01\"\n",
    "```"
   ]
  },
  {
   "cell_type": "markdown",
   "id": "b11c2b83-ff3c-4a49-b342-21984efc6053",
   "metadata": {},
   "source": [
    "The only non-obvious parameters might be `bias` and `eta`. The parameter `bias` can be either `X`, `Y` or `Z`, and `eta` can be any value between `0.5` and `inf`, where `eta=0.5` corresponds to depolarizing noise and `eta=inf` to pure {X,Y,Z} noise (depending on the value of `bias`). See `panqec generate-input --help` for more information."
   ]
  },
  {
   "cell_type": "markdown",
   "id": "f60aebfa-02a2-4647-941c-102406132e08",
   "metadata": {},
   "source": [
    "To test that input file is correct and that all the libraries are correctly installed, we recommand you to do a mock run with the following command:"
   ]
  },
  {
   "cell_type": "markdown",
   "id": "deeeb144-6267-406b-b6fa-379b25d2bbc7",
   "metadata": {},
   "source": [
    "```bash\n",
    "panqec run -i my-experiment/inputs/input.json -o mock.json.gz -t 10\n",
    "```"
   ]
  },
  {
   "cell_type": "markdown",
   "id": "0054314e-f9a6-46b8-9670-dfd296a51576",
   "metadata": {},
   "source": [
    "This will run your experiment with 10 trials and store the result in a compressed json file `mock.json.gz`"
   ]
  },
  {
   "cell_type": "markdown",
   "id": "b2b2769f-3cc6-4264-b6c2-550f9d512b3e",
   "metadata": {},
   "source": [
    "## Generating and cluster script"
   ]
  },
  {
   "cell_type": "markdown",
   "id": "62fd323a-1da8-4da1-aa44-47607116db20",
   "metadata": {},
   "source": [
    "PanQEC has a command to automatically generate a cluster script, namely `panqec generate-cluster-script`. Its first input is a *header file*. It contains the first few lines of your cluster scripts, which are often cluster-specific. Here is an example of header file for Slurm:"
   ]
  },
  {
   "cell_type": "markdown",
   "id": "6bf94765-2a98-4fcd-bb9f-3d1fbd1051de",
   "metadata": {},
   "source": [
    "```bash\n",
    "#!/bin/bash\n",
    "#SBATCH -N 1\n",
    "#SBATCH -t ${TIME}\n",
    "#SBATCH --cpus-per-task=${N_CORES}\n",
    "#SBATCH --exclusive\n",
    "#SBATCH --job-name=${NAME}\n",
    "#SBATCH --array=1-${N_NODES}\n",
    "#SBATCH --mem=${MEMORY}\n",
    "#SBATCH -p ${QUEUE}\n",
    "#SBATCH --output=${DATA_DIR}/%j.out\n",
    "\n",
    "module purge\n",
    "module load gcc/devtoolset/9\n",
    "module load anaconda/anaconda3.7\n",
    "source ~/.bashrc\n",
    "```"
   ]
  },
  {
   "cell_type": "markdown",
   "id": "93817027-8327-47cc-8b6a-00ac669b360d",
   "metadata": {},
   "source": [
    "All the variables enclosed by `${}` will be replaced by an actual value in the final cluster script. \n",
    "Once you have this header ready, let's say in a file `~/slurm-header.sbatch`, you can run the following command:"
   ]
  },
  {
   "cell_type": "markdown",
   "id": "f44755bd-90f9-48e0-b64a-d499df4e0675",
   "metadata": {},
   "source": [
    "```bash\n",
    "panqec generate-cluster-script \\\n",
    "       ~/slurm_header.sbatch \\\n",
    "       --output-file my-experiment/run.sbatch \\\n",
    "       --data-dir my-experiment \\\n",
    "       --cluster slurm \\\n",
    "       --trials 10000 \\\n",
    "       --n-nodes 8 \\\n",
    "       --n-cores 5 \\\n",
    "       --wall-time \"00:10:00\" \\\n",
    "       --memory \"1G\" \\\n",
    "       --delete-existing\n",
    "```"
   ]
  },
  {
   "cell_type": "markdown",
   "id": "79a6c67b-d4b4-4ae7-b3ec-8628969e690f",
   "metadata": {},
   "source": [
    "You should now have the following content in `my-experiment/run.sbatch`:"
   ]
  },
  {
   "cell_type": "markdown",
   "id": "a6423798-7fc0-4f10-8e55-b182793af25a",
   "metadata": {},
   "source": [
    "```bash\n",
    "#!/bin/bash\n",
    "#SBATCH -N 1\n",
    "#SBATCH -t 00:10:00\n",
    "#SBATCH --cpus-per-task=30\n",
    "#SBATCH --exclusive\n",
    "#SBATCH --job-name=my-experiment\n",
    "#SBATCH --array=1-10\n",
    "#SBATCH --mem=1G\n",
    "#SBATCH -p pml\n",
    "#SBATCH --output=my-experiment/%j.out\n",
    "\n",
    "module purge\n",
    "module load gcc/devtoolset/9\n",
    "module load anaconda/anaconda3.7\n",
    "source ~/.bashrc\n",
    "\n",
    "panqec monitor-usage my-experiment/logs/usage_$SLURM_JOB_ID_$SLURM_ARRAY_TASK_ID.txt &\n",
    "\n",
    "panqec run-parallel -d my-experiment -n 8 -j $SLURM_ARRAY_TASK_ID -c 5 -t 10000 --delete-existing\n",
    "\n",
    "date\n",
    "```"
   ]
  },
  {
   "cell_type": "markdown",
   "id": "e8b82b32-b41c-419c-a46d-fd1eeac6f2c2",
   "metadata": {},
   "source": [
    "As you can see, it first contains a command to monitor the usage (CPU and RAM), which will be stored in the logs directory. The second command, `run-parallel`, parallelizes the 1000 Monte Carlo trials over all the nodes and cores, and runs the simulation on the current node of the job array."
   ]
  },
  {
   "cell_type": "markdown",
   "id": "8289ee67-3c8c-4990-aba1-06ccf9f9dc85",
   "metadata": {},
   "source": [
    "## Running the script and checking progress"
   ]
  },
  {
   "cell_type": "markdown",
   "id": "bb65d105-26a9-4139-af40-7296e41063dd",
   "metadata": {},
   "source": [
    "Simply run the script generated above with your cluster system command. For instance, for Slurm, enter:"
   ]
  },
  {
   "cell_type": "markdown",
   "id": "d40e5b60-7beb-4974-827c-bfa4f4b862fa",
   "metadata": {},
   "source": [
    "```bash\n",
    "sbatch my-experiment/run.sbatch\n",
    "```"
   ]
  },
  {
   "cell_type": "markdown",
   "id": "20368fca-d022-4417-985d-0a3cfc22f64e",
   "metadata": {},
   "source": [
    "You can check the progress of the experiment with the command"
   ]
  },
  {
   "cell_type": "markdown",
   "id": "29a1cf4f-f695-4014-8eed-8d7980cad137",
   "metadata": {},
   "source": [
    "```bash\n",
    "panqec check-progress my-experiments/logs\n",
    "```"
   ]
  },
  {
   "cell_type": "markdown",
   "id": "4b7fac35-6de1-44d4-8a54-7654cfa8dcd7",
   "metadata": {},
   "source": [
    "You can add the option `-a` to inspect the progress on all the cores individually"
   ]
  },
  {
   "cell_type": "markdown",
   "id": "aab0871f-0806-43d6-ac30-aa7ddb3c1915",
   "metadata": {},
   "source": [
    "## Aggregating and analyzing results"
   ]
  },
  {
   "cell_type": "markdown",
   "id": "6adfeda0-8ab0-4d5b-b7ee-be015eef7312",
   "metadata": {},
   "source": [
    "Once the experiment is running, all the results will be regularly saved in the files `my-experiments/results/results_[i].json.gz` where `[i]` is the index of the core. At any moment during the experiment, you can merge the results into a single file and send it to your laptop for analysis. Here is the command you need to run:"
   ]
  },
  {
   "cell_type": "markdown",
   "id": "ca4b9b7d-965b-4375-9bd3-29bdd8aa78d1",
   "metadata": {},
   "source": [
    "```bash\n",
    "panqec merge-results my-experiments/results/results_* -o my-experiments/merged-results.json.gz\n",
    "```"
   ]
  },
  {
   "cell_type": "markdown",
   "id": "afd73265-eb77-4e95-965e-d65d1a778584",
   "metadata": {},
   "source": [
    "You can then send the file `my-experiments/merged-results.json.gz` to your laptop using `scp` or an equivalent method. "
   ]
  },
  {
   "cell_type": "markdown",
   "id": "09cc1736-ec76-412e-8fcb-8c414470aa07",
   "metadata": {},
   "source": [
    "The following piece of code, that you can run on a Jupyter Notebook locally, will allow you to quickly visualize the obtained data:"
   ]
  },
  {
   "cell_type": "code",
   "execution_count": 43,
   "id": "c6a3c936-fd18-4375-bef0-40f0e86bebdc",
   "metadata": {},
   "outputs": [
    {
     "name": "stdout",
     "output_type": "stream",
     "text": [
      "Finding files\n",
      "Found 1 files\n",
      "Reading files\n",
      "Aggregating data\n",
      "Calculating total error rates\n",
      "Calculating word error rates\n",
      "Calculating single qubit error rates\n"
     ]
    },
    {
     "data": {
      "text/plain": [
       "<matplotlib.legend.Legend at 0x144aa1db0>"
      ]
     },
     "execution_count": 43,
     "metadata": {},
     "output_type": "execute_result"
    },
    {
     "data": {
      "image/png": "[encoded data removed]",
      "text/plain": [
       "<Figure size 640x480 with 1 Axes>"
      ]
     },
     "metadata": {},
     "output_type": "display_data"
    }
   ],
   "source": [
    "from panqec.analysis import Analysis\n",
    "import matplotlib.pyplot as plt\n",
    "\n",
    "analysis = Analysis(\"my-experiment/merged-results.json.gz\")\n",
    "results = analysis.get_results()\n",
    "\n",
    "for d in results['d'].unique():\n",
    "    plt.errorbar(results[results['d'] == d]['error_rate'], \n",
    "                 results[results['d'] == d]['p_est'],\n",
    "                 results[results['d'] == d]['p_se'],\n",
    "                 label=f'd={d}')\n",
    "\n",
    "plt.legend()"
   ]
  }
 ],
 "metadata": {
  "kernelspec": {
   "display_name": "Python 3 (ipykernel)",
   "language": "python",
   "name": "python3"
  },
  "language_info": {
   "codemirror_mode": {
    "name": "ipython",
    "version": 3
   },
   "file_extension": ".py",
   "mimetype": "text/x-python",
   "name": "python",
   "nbconvert_exporter": "python",
   "pygments_lexer": "ipython3",
   "version": "3.10.8"
  }
 },
 "nbformat": 4,
 "nbformat_minor": 5
}
